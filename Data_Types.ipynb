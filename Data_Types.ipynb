{
  "nbformat": 4,
  "nbformat_minor": 5,
  "metadata": {
    "kernelspec": {
      "display_name": "Python 3 (ipykernel)",
      "language": "python",
      "name": "python3"
    },
    "language_info": {
      "codemirror_mode": {
        "name": "ipython",
        "version": 3
      },
      "file_extension": ".py",
      "mimetype": "text/x-python",
      "name": "python",
      "nbconvert_exporter": "python",
      "pygments_lexer": "ipython3",
      "version": "3.9.1"
    },
    "colab": {
      "name": "Data Types.ipynb",
      "provenance": []
    }
  },
  "cells": [
    {
      "cell_type": "markdown",
      "metadata": {
        "id": "exceptional-exploration"
      },
      "source": [
        "# Data Types"
      ],
      "id": "exceptional-exploration"
    },
    {
      "cell_type": "raw",
      "metadata": {
        "id": "floral-processor"
      },
      "source": [
        "Variables are used to hold/store value\n",
        "Python is Dynamically Typed language"
      ],
      "id": "floral-processor"
    },
    {
      "cell_type": "code",
      "metadata": {
        "id": "blocked-quest"
      },
      "source": [
        "Numeric : int, float, complex\n",
        "    \n",
        "text : str\n",
        "   \n",
        "sequence : list, tuple, range\n",
        "    \n",
        "mapping : dict (Key value pair)\n",
        "\n",
        "setDT : set, frozenset\n",
        "\n",
        "Boolean : bool (True/False)\n",
        "    \n",
        "Binary : bytes"
      ],
      "id": "blocked-quest",
      "execution_count": null,
      "outputs": []
    },
    {
      "cell_type": "markdown",
      "metadata": {
        "id": "compatible-editing"
      },
      "source": [
        "# Int Data Type"
      ],
      "id": "compatible-editing"
    },
    {
      "cell_type": "raw",
      "metadata": {
        "id": "consolidated-citizen"
      },
      "source": [
        "Whole Numbers\n",
        "+ve or -ve\n",
        "without decimal"
      ],
      "id": "consolidated-citizen"
    },
    {
      "cell_type": "code",
      "metadata": {
        "id": "taken-frank",
        "outputId": "e1ee2e8a-0141-4e95-a8e2-4a628c63a00a"
      },
      "source": [
        "x = 100\n",
        "type(x)"
      ],
      "id": "taken-frank",
      "execution_count": null,
      "outputs": [
        {
          "data": {
            "text/plain": [
              "int"
            ]
          },
          "execution_count": 8,
          "metadata": {},
          "output_type": "execute_result"
        }
      ]
    },
    {
      "cell_type": "code",
      "metadata": {
        "id": "trying-designation",
        "outputId": "2b27e1d8-80b5-4dd0-9fac-30f1156109f5"
      },
      "source": [
        "number = 2345\n",
        "type(number)"
      ],
      "id": "trying-designation",
      "execution_count": null,
      "outputs": [
        {
          "data": {
            "text/plain": [
              "int"
            ]
          },
          "execution_count": 10,
          "metadata": {},
          "output_type": "execute_result"
        }
      ]
    },
    {
      "cell_type": "code",
      "metadata": {
        "id": "precious-pearl",
        "outputId": "192e10aa-d845-4d1c-ff83-702893eecb97"
      },
      "source": [
        "number = -45\n",
        "type(number)"
      ],
      "id": "precious-pearl",
      "execution_count": null,
      "outputs": [
        {
          "data": {
            "text/plain": [
              "int"
            ]
          },
          "execution_count": 12,
          "metadata": {},
          "output_type": "execute_result"
        }
      ]
    },
    {
      "cell_type": "code",
      "metadata": {
        "id": "inside-structure"
      },
      "source": [
        "number = -45\n",
        "type(number)"
      ],
      "id": "inside-structure",
      "execution_count": null,
      "outputs": []
    },
    {
      "cell_type": "markdown",
      "metadata": {
        "id": "historic-northeast"
      },
      "source": [
        "# Float Data Type"
      ],
      "id": "historic-northeast"
    },
    {
      "cell_type": "code",
      "metadata": {
        "id": "caring-european"
      },
      "source": [
        "+ve or -ve\n",
        "With decimal point"
      ],
      "id": "caring-european",
      "execution_count": null,
      "outputs": []
    },
    {
      "cell_type": "code",
      "metadata": {
        "id": "primary-template",
        "outputId": "2ea9245d-0c7a-4a21-cb97-506a5eef96d0"
      },
      "source": [
        "float_number = 23.45\n",
        "print(\"Data Type of variable is :\",type(float_number))"
      ],
      "id": "primary-template",
      "execution_count": null,
      "outputs": [
        {
          "name": "stdout",
          "output_type": "stream",
          "text": [
            "Data Type of variable is : <class 'float'>\n"
          ]
        }
      ]
    },
    {
      "cell_type": "code",
      "metadata": {
        "id": "contrary-patrick",
        "outputId": "2e222257-e7c0-4f97-c85e-eaa1a22b10cc"
      },
      "source": [
        "float_number = -23.45\n",
        "type(float_number)"
      ],
      "id": "contrary-patrick",
      "execution_count": null,
      "outputs": [
        {
          "data": {
            "text/plain": [
              "float"
            ]
          },
          "execution_count": 18,
          "metadata": {},
          "output_type": "execute_result"
        }
      ]
    },
    {
      "cell_type": "code",
      "metadata": {
        "id": "detected-confirmation",
        "outputId": "3a0c79fe-a91e-4cf6-ad6f-8c2e0f015d48"
      },
      "source": [
        "num = 1223.45\n",
        "type(num)"
      ],
      "id": "detected-confirmation",
      "execution_count": null,
      "outputs": [
        {
          "data": {
            "text/plain": [
              "float"
            ]
          },
          "execution_count": 20,
          "metadata": {},
          "output_type": "execute_result"
        }
      ]
    },
    {
      "cell_type": "code",
      "metadata": {
        "id": "ignored-listing",
        "outputId": "883fd584-0473-4fc9-87f9-7d9188e2ef09"
      },
      "source": [
        "num = 1223.0\n",
        "type(num)"
      ],
      "id": "ignored-listing",
      "execution_count": null,
      "outputs": [
        {
          "data": {
            "text/plain": [
              "float"
            ]
          },
          "execution_count": 21,
          "metadata": {},
          "output_type": "execute_result"
        }
      ]
    },
    {
      "cell_type": "code",
      "metadata": {
        "id": "billion-virginia",
        "outputId": "55fd2914-a179-4677-e5a0-751e1c4b3b93"
      },
      "source": [
        "num = 10.123456789\n",
        "type(num)"
      ],
      "id": "billion-virginia",
      "execution_count": null,
      "outputs": [
        {
          "data": {
            "text/plain": [
              "float"
            ]
          },
          "execution_count": 23,
          "metadata": {},
          "output_type": "execute_result"
        }
      ]
    },
    {
      "cell_type": "code",
      "metadata": {
        "id": "opposite-cattle",
        "outputId": "62446fd3-e659-4ce4-ebd1-77fa9cda7218"
      },
      "source": [
        "num = 10.123456789\n",
        "round(num, 2)"
      ],
      "id": "opposite-cattle",
      "execution_count": null,
      "outputs": [
        {
          "data": {
            "text/plain": [
              "10.12"
            ]
          },
          "execution_count": 26,
          "metadata": {},
          "output_type": "execute_result"
        }
      ]
    },
    {
      "cell_type": "code",
      "metadata": {
        "id": "ideal-blogger",
        "outputId": "acf4f033-823a-4d62-d94e-19876850db8a"
      },
      "source": [
        "num = 10.125456789\n",
        "round(num, 4)"
      ],
      "id": "ideal-blogger",
      "execution_count": null,
      "outputs": [
        {
          "data": {
            "text/plain": [
              "10.1255"
            ]
          },
          "execution_count": 30,
          "metadata": {},
          "output_type": "execute_result"
        }
      ]
    },
    {
      "cell_type": "markdown",
      "metadata": {
        "id": "selected-humidity"
      },
      "source": [
        "# Complex Data Type"
      ],
      "id": "selected-humidity"
    },
    {
      "cell_type": "raw",
      "metadata": {
        "id": "embedded-glasgow"
      },
      "source": [
        "Contain Real and Imaginary Part "
      ],
      "id": "embedded-glasgow"
    },
    {
      "cell_type": "code",
      "metadata": {
        "id": "skilled-munich",
        "outputId": "981c532c-6fd4-446d-ff42-043d26ababe2"
      },
      "source": [
        "x = 3 + 4j\n",
        "type(x)"
      ],
      "id": "skilled-munich",
      "execution_count": null,
      "outputs": [
        {
          "data": {
            "text/plain": [
              "complex"
            ]
          },
          "execution_count": 35,
          "metadata": {},
          "output_type": "execute_result"
        }
      ]
    },
    {
      "cell_type": "code",
      "metadata": {
        "id": "sought-collectible",
        "outputId": "7c0b039b-1b7c-40eb-e79c-42a2e0365830"
      },
      "source": [
        "x = 3 + 0j\n",
        "type(x)"
      ],
      "id": "sought-collectible",
      "execution_count": null,
      "outputs": [
        {
          "data": {
            "text/plain": [
              "complex"
            ]
          },
          "execution_count": 37,
          "metadata": {},
          "output_type": "execute_result"
        }
      ]
    },
    {
      "cell_type": "code",
      "metadata": {
        "id": "bound-carpet",
        "outputId": "348fb846-653e-404f-d12f-7ed4ff7c38a4"
      },
      "source": [
        "x =  4j\n",
        "type(x)"
      ],
      "id": "bound-carpet",
      "execution_count": null,
      "outputs": [
        {
          "data": {
            "text/plain": [
              "complex"
            ]
          },
          "execution_count": 39,
          "metadata": {},
          "output_type": "execute_result"
        }
      ]
    },
    {
      "cell_type": "code",
      "metadata": {
        "id": "bright-bobby",
        "outputId": "d5d90c05-870d-4937-c264-97a94c601142"
      },
      "source": [
        "x =  0 + 4j\n",
        "type(x)"
      ],
      "id": "bright-bobby",
      "execution_count": null,
      "outputs": [
        {
          "data": {
            "text/plain": [
              "complex"
            ]
          },
          "execution_count": 41,
          "metadata": {},
          "output_type": "execute_result"
        }
      ]
    },
    {
      "cell_type": "code",
      "metadata": {
        "id": "natural-wellington",
        "outputId": "b1a13a98-bfd4-47b2-d18d-e3fdf1ac2cef"
      },
      "source": [
        "abs(3) # Dist from 0 value"
      ],
      "id": "natural-wellington",
      "execution_count": null,
      "outputs": [
        {
          "data": {
            "text/plain": [
              "3"
            ]
          },
          "execution_count": 43,
          "metadata": {},
          "output_type": "execute_result"
        }
      ]
    },
    {
      "cell_type": "code",
      "metadata": {
        "id": "curious-occasion",
        "outputId": "9e91160a-5ea2-40ee-ade8-b46f3a8b1624"
      },
      "source": [
        "abs(-3)"
      ],
      "id": "curious-occasion",
      "execution_count": null,
      "outputs": [
        {
          "data": {
            "text/plain": [
              "3"
            ]
          },
          "execution_count": 47,
          "metadata": {},
          "output_type": "execute_result"
        }
      ]
    },
    {
      "cell_type": "code",
      "metadata": {
        "id": "humanitarian-simon",
        "outputId": "f2a1da27-9d0e-4990-fa4a-1809c5ebdb8b"
      },
      "source": [
        "abs(-34.56)"
      ],
      "id": "humanitarian-simon",
      "execution_count": null,
      "outputs": [
        {
          "data": {
            "text/plain": [
              "34.56"
            ]
          },
          "execution_count": 48,
          "metadata": {},
          "output_type": "execute_result"
        }
      ]
    },
    {
      "cell_type": "code",
      "metadata": {
        "id": "atomic-california",
        "outputId": "2d60abca-500c-4ec4-8764-9fc76ac5162e"
      },
      "source": [
        "abs(3 + 4j)"
      ],
      "id": "atomic-california",
      "execution_count": null,
      "outputs": [
        {
          "data": {
            "text/plain": [
              "5.0"
            ]
          },
          "execution_count": 46,
          "metadata": {},
          "output_type": "execute_result"
        }
      ]
    },
    {
      "cell_type": "markdown",
      "metadata": {
        "id": "commercial-orlando"
      },
      "source": [
        "# Python Casting"
      ],
      "id": "commercial-orlando"
    },
    {
      "cell_type": "code",
      "metadata": {
        "id": "greenhouse-struggle"
      },
      "source": [
        "Specify Variable type\n",
        "To change data type of variable"
      ],
      "id": "greenhouse-struggle",
      "execution_count": null,
      "outputs": []
    },
    {
      "cell_type": "code",
      "metadata": {
        "id": "liable-container"
      },
      "source": [
        "x = 20\n",
        "x1 = 10.45\n",
        "x2 = 35.1\n"
      ],
      "id": "liable-container",
      "execution_count": null,
      "outputs": []
    },
    {
      "cell_type": "markdown",
      "metadata": {
        "id": "presidential-glasgow"
      },
      "source": [
        "## 1. int to float"
      ],
      "id": "presidential-glasgow"
    },
    {
      "cell_type": "code",
      "metadata": {
        "id": "excited-people",
        "outputId": "26179b42-ad0b-42aa-ec85-8df9f96425f5"
      },
      "source": [
        "x = 20\n",
        "x = float(x)\n",
        "print(\"Updated value of x is :\",x)"
      ],
      "id": "excited-people",
      "execution_count": null,
      "outputs": [
        {
          "name": "stdout",
          "output_type": "stream",
          "text": [
            "Updated value of x is : 20.0\n"
          ]
        }
      ]
    },
    {
      "cell_type": "markdown",
      "metadata": {
        "id": "eight-plane"
      },
      "source": [
        "## 2. float to int"
      ],
      "id": "eight-plane"
    },
    {
      "cell_type": "code",
      "metadata": {
        "id": "upper-fraud",
        "outputId": "f6cfac00-7aa9-4d1b-9c2e-6eee8f55690c"
      },
      "source": [
        "num = 10.54\n",
        "type(num)\n",
        "num = int(10.54)\n",
        "print(\"Updated value of x is :\",num)"
      ],
      "id": "upper-fraud",
      "execution_count": null,
      "outputs": [
        {
          "name": "stdout",
          "output_type": "stream",
          "text": [
            "Updated value of x is : 10\n"
          ]
        }
      ]
    },
    {
      "cell_type": "code",
      "metadata": {
        "id": "compact-marsh",
        "outputId": "dcf525d4-ce89-4896-cc9b-0552892d7d8f"
      },
      "source": [
        "num = 10.99\n",
        "print(\"Value in Num is :\",num)   # 10.99\n",
        "\n",
        "num = int(num)  # Converting float number to int data type\n",
        "print(\"Updated value of num is :\",num)"
      ],
      "id": "compact-marsh",
      "execution_count": null,
      "outputs": [
        {
          "name": "stdout",
          "output_type": "stream",
          "text": [
            "Value in Num is : 10.99\n",
            "Updated value of num is : 10\n"
          ]
        }
      ]
    },
    {
      "cell_type": "code",
      "metadata": {
        "id": "diagnostic-native",
        "outputId": "d65fc6ef-51e4-43ec-97ce-b73756c01fd9"
      },
      "source": [
        "int(10.99)"
      ],
      "id": "diagnostic-native",
      "execution_count": null,
      "outputs": [
        {
          "data": {
            "text/plain": [
              "10"
            ]
          },
          "execution_count": 59,
          "metadata": {},
          "output_type": "execute_result"
        }
      ]
    },
    {
      "cell_type": "code",
      "metadata": {
        "id": "environmental-asset",
        "outputId": "c9ac3186-71e5-4cbf-90af-c6f0a652e905"
      },
      "source": [
        "print(\"Updated value of x is :\",int(34.56))"
      ],
      "id": "environmental-asset",
      "execution_count": null,
      "outputs": [
        {
          "name": "stdout",
          "output_type": "stream",
          "text": [
            "Updated value of x is : 34\n"
          ]
        }
      ]
    },
    {
      "cell_type": "code",
      "metadata": {
        "id": "absent-restoration",
        "outputId": "e8dd4b6d-32bb-4f68-eb91-7e5255bcc459"
      },
      "source": [
        "int(10.5)\n",
        "float(10)\n",
        "float(23.56)"
      ],
      "id": "absent-restoration",
      "execution_count": null,
      "outputs": [
        {
          "data": {
            "text/plain": [
              "23.56"
            ]
          },
          "execution_count": 66,
          "metadata": {},
          "output_type": "execute_result"
        }
      ]
    },
    {
      "cell_type": "code",
      "metadata": {
        "id": "dental-hollow",
        "outputId": "63f23fe0-dea8-4770-ca58-d710493e3e77"
      },
      "source": [
        "a = 20.50\n",
        "print(f\"Value of a is {a} and its data type is {type(a)}\")\n",
        "\n",
        "a = int(a)\n",
        "print(f\"Value of a is {a} and its data type is {type(a)}\")"
      ],
      "id": "dental-hollow",
      "execution_count": null,
      "outputs": [
        {
          "name": "stdout",
          "output_type": "stream",
          "text": [
            "Value of a is 20.5 and its data type is <class 'float'>\n",
            "Value of a is 20 and its data type is <class 'int'>\n"
          ]
        }
      ]
    },
    {
      "cell_type": "code",
      "metadata": {
        "id": "impressed-input",
        "outputId": "d83ffa75-9c1c-4ea2-ec5b-841066639b97"
      },
      "source": [
        "a = 10.93487\n",
        "print(f\"Value of a is {a} and its data type is {type(a)}\")\n",
        "\n",
        "a = int(a)\n",
        "print(f\"Value of a is {a} and its data type is {type(a)}\")"
      ],
      "id": "impressed-input",
      "execution_count": null,
      "outputs": [
        {
          "name": "stdout",
          "output_type": "stream",
          "text": [
            "Value of a is 10.93487 and its data type is <class 'float'>\n",
            "Value of a is 10 and its data type is <class 'int'>\n"
          ]
        }
      ]
    },
    {
      "cell_type": "markdown",
      "metadata": {
        "id": "incorporated-remark"
      },
      "source": [
        "## 3. int to complex"
      ],
      "id": "incorporated-remark"
    },
    {
      "cell_type": "code",
      "metadata": {
        "id": "compressed-street",
        "outputId": "3c16af95-b033-4472-ff5d-f537d23389b7"
      },
      "source": [
        "a = 24\n",
        "print(f\"Value of a is {a} and its data type is {type(a)}\")\n",
        "\n",
        "a = complex(a)\n",
        "print(f\"Value of a is {a} and its data type is {type(a)}\")"
      ],
      "id": "compressed-street",
      "execution_count": null,
      "outputs": [
        {
          "name": "stdout",
          "output_type": "stream",
          "text": [
            "Value of a is 24 and its data type is <class 'int'>\n",
            "Value of a is (24+0j) and its data type is <class 'complex'>\n"
          ]
        }
      ]
    },
    {
      "cell_type": "code",
      "metadata": {
        "id": "preliminary-minute",
        "outputId": "04ec08e4-78aa-49fb-e087-001afc99d235"
      },
      "source": [
        "a = 100\n",
        "print(f\"Value of a is {a} and its data type is {type(a)}\")\n",
        "\n",
        "a = complex(a)\n",
        "print(f\"Value of a is {a} and its data type is {type(a)}\")"
      ],
      "id": "preliminary-minute",
      "execution_count": null,
      "outputs": [
        {
          "name": "stdout",
          "output_type": "stream",
          "text": [
            "Value of a is 100 and its data type is <class 'int'>\n",
            "Value of a is (100+0j) and its data type is <class 'complex'>\n"
          ]
        }
      ]
    },
    {
      "cell_type": "markdown",
      "metadata": {
        "id": "heavy-excuse"
      },
      "source": [
        "## 4. float to complex"
      ],
      "id": "heavy-excuse"
    },
    {
      "cell_type": "code",
      "metadata": {
        "id": "precious-there",
        "outputId": "010e3178-b8a9-4882-c78c-3b8c318f3e16"
      },
      "source": [
        "a = 24.56\n",
        "print(f\"Value of a is {a} and its data type is {type(a)}\")\n",
        "\n",
        "a = complex(a)\n",
        "print(f\"Value of a is {a} and its data type is {type(a)}\")"
      ],
      "id": "precious-there",
      "execution_count": null,
      "outputs": [
        {
          "name": "stdout",
          "output_type": "stream",
          "text": [
            "Value of a is 24.56 and its data type is <class 'float'>\n",
            "Value of a is (24.56+0j) and its data type is <class 'complex'>\n"
          ]
        }
      ]
    },
    {
      "cell_type": "markdown",
      "metadata": {
        "id": "cooperative-premises"
      },
      "source": [
        "## 5. complex to int"
      ],
      "id": "cooperative-premises"
    },
    {
      "cell_type": "raw",
      "metadata": {
        "id": "finite-istanbul"
      },
      "source": [
        "Complex number to int or float is not possible"
      ],
      "id": "finite-istanbul"
    },
    {
      "cell_type": "code",
      "metadata": {
        "id": "korean-fortune",
        "outputId": "285c3f91-0c54-4c8a-b7cd-c0b7bd74e8c8"
      },
      "source": [
        "a = 24 + 5j\n",
        "print(f\"Value of a is {a} and its data type is {type(a)}\")\n",
        "\n",
        "a = int(a)\n",
        "print(f\"Value of a is {a} and its data type is {type(a)}\")"
      ],
      "id": "korean-fortune",
      "execution_count": null,
      "outputs": [
        {
          "name": "stdout",
          "output_type": "stream",
          "text": [
            "Value of a is (24+5j) and its data type is <class 'complex'>\n"
          ]
        },
        {
          "ename": "TypeError",
          "evalue": "can't convert complex to int",
          "output_type": "error",
          "traceback": [
            "\u001b[1;31m---------------------------------------------------------------------------\u001b[0m",
            "\u001b[1;31mTypeError\u001b[0m                                 Traceback (most recent call last)",
            "\u001b[1;32m<ipython-input-82-2ab179379d7f>\u001b[0m in \u001b[0;36m<module>\u001b[1;34m\u001b[0m\n\u001b[0;32m      2\u001b[0m \u001b[0mprint\u001b[0m\u001b[1;33m(\u001b[0m\u001b[1;34mf\"Value of a is {a} and its data type is {type(a)}\"\u001b[0m\u001b[1;33m)\u001b[0m\u001b[1;33m\u001b[0m\u001b[1;33m\u001b[0m\u001b[0m\n\u001b[0;32m      3\u001b[0m \u001b[1;33m\u001b[0m\u001b[0m\n\u001b[1;32m----> 4\u001b[1;33m \u001b[0ma\u001b[0m \u001b[1;33m=\u001b[0m \u001b[0mint\u001b[0m\u001b[1;33m(\u001b[0m\u001b[0ma\u001b[0m\u001b[1;33m)\u001b[0m\u001b[1;33m\u001b[0m\u001b[1;33m\u001b[0m\u001b[0m\n\u001b[0m\u001b[0;32m      5\u001b[0m \u001b[0mprint\u001b[0m\u001b[1;33m(\u001b[0m\u001b[1;34mf\"Value of a is {a} and its data type is {type(a)}\"\u001b[0m\u001b[1;33m)\u001b[0m\u001b[1;33m\u001b[0m\u001b[1;33m\u001b[0m\u001b[0m\n",
            "\u001b[1;31mTypeError\u001b[0m: can't convert complex to int"
          ]
        }
      ]
    },
    {
      "cell_type": "code",
      "metadata": {
        "id": "juvenile-seeker",
        "outputId": "61fb7971-f90d-4471-af4a-5578e2b74dab"
      },
      "source": [
        "a = 24 + 5j\n",
        "print(f\"Value of a is {a} and its data type is {type(a)}\")\n",
        "\n",
        "a = float(a)\n",
        "print(f\"Value of a is {a} and its data type is {type(a)}\")"
      ],
      "id": "juvenile-seeker",
      "execution_count": null,
      "outputs": [
        {
          "name": "stdout",
          "output_type": "stream",
          "text": [
            "Value of a is (24+5j) and its data type is <class 'complex'>\n"
          ]
        },
        {
          "ename": "TypeError",
          "evalue": "can't convert complex to float",
          "output_type": "error",
          "traceback": [
            "\u001b[1;31m---------------------------------------------------------------------------\u001b[0m",
            "\u001b[1;31mTypeError\u001b[0m                                 Traceback (most recent call last)",
            "\u001b[1;32m<ipython-input-84-5abc8af14369>\u001b[0m in \u001b[0;36m<module>\u001b[1;34m\u001b[0m\n\u001b[0;32m      2\u001b[0m \u001b[0mprint\u001b[0m\u001b[1;33m(\u001b[0m\u001b[1;34mf\"Value of a is {a} and its data type is {type(a)}\"\u001b[0m\u001b[1;33m)\u001b[0m\u001b[1;33m\u001b[0m\u001b[1;33m\u001b[0m\u001b[0m\n\u001b[0;32m      3\u001b[0m \u001b[1;33m\u001b[0m\u001b[0m\n\u001b[1;32m----> 4\u001b[1;33m \u001b[0ma\u001b[0m \u001b[1;33m=\u001b[0m \u001b[0mfloat\u001b[0m\u001b[1;33m(\u001b[0m\u001b[0ma\u001b[0m\u001b[1;33m)\u001b[0m\u001b[1;33m\u001b[0m\u001b[1;33m\u001b[0m\u001b[0m\n\u001b[0m\u001b[0;32m      5\u001b[0m \u001b[0mprint\u001b[0m\u001b[1;33m(\u001b[0m\u001b[1;34mf\"Value of a is {a} and its data type is {type(a)}\"\u001b[0m\u001b[1;33m)\u001b[0m\u001b[1;33m\u001b[0m\u001b[1;33m\u001b[0m\u001b[0m\n",
            "\u001b[1;31mTypeError\u001b[0m: can't convert complex to float"
          ]
        }
      ]
    },
    {
      "cell_type": "code",
      "metadata": {
        "id": "intense-royalty",
        "outputId": "5e310474-e54e-4f90-91af-a27698b3a9f6"
      },
      "source": [
        "a = 24 + 0j\n",
        "print(\"Value of a is {} and its data type is {}\".format(a,type(a)))\n",
        "\n",
        "a = float(a)\n",
        "print(f\"Value of a is {a} and its data type is {type(a)}\")"
      ],
      "id": "intense-royalty",
      "execution_count": null,
      "outputs": [
        {
          "name": "stdout",
          "output_type": "stream",
          "text": [
            "Value of a is (24+0j) and its data type is <class 'complex'>\n"
          ]
        },
        {
          "ename": "TypeError",
          "evalue": "can't convert complex to float",
          "output_type": "error",
          "traceback": [
            "\u001b[1;31m---------------------------------------------------------------------------\u001b[0m",
            "\u001b[1;31mTypeError\u001b[0m                                 Traceback (most recent call last)",
            "\u001b[1;32m<ipython-input-89-ae83a978e185>\u001b[0m in \u001b[0;36m<module>\u001b[1;34m\u001b[0m\n\u001b[0;32m      2\u001b[0m \u001b[0mprint\u001b[0m\u001b[1;33m(\u001b[0m\u001b[1;34m\"Value of a is {} and its data type is {}\"\u001b[0m\u001b[1;33m.\u001b[0m\u001b[0mformat\u001b[0m\u001b[1;33m(\u001b[0m\u001b[0ma\u001b[0m\u001b[1;33m,\u001b[0m\u001b[0mtype\u001b[0m\u001b[1;33m(\u001b[0m\u001b[0ma\u001b[0m\u001b[1;33m)\u001b[0m\u001b[1;33m)\u001b[0m\u001b[1;33m)\u001b[0m\u001b[1;33m\u001b[0m\u001b[1;33m\u001b[0m\u001b[0m\n\u001b[0;32m      3\u001b[0m \u001b[1;33m\u001b[0m\u001b[0m\n\u001b[1;32m----> 4\u001b[1;33m \u001b[0ma\u001b[0m \u001b[1;33m=\u001b[0m \u001b[0mfloat\u001b[0m\u001b[1;33m(\u001b[0m\u001b[0ma\u001b[0m\u001b[1;33m)\u001b[0m\u001b[1;33m\u001b[0m\u001b[1;33m\u001b[0m\u001b[0m\n\u001b[0m\u001b[0;32m      5\u001b[0m \u001b[0mprint\u001b[0m\u001b[1;33m(\u001b[0m\u001b[1;34mf\"Value of a is {a} and its data type is {type(a)}\"\u001b[0m\u001b[1;33m)\u001b[0m\u001b[1;33m\u001b[0m\u001b[1;33m\u001b[0m\u001b[0m\n",
            "\u001b[1;31mTypeError\u001b[0m: can't convert complex to float"
          ]
        }
      ]
    },
    {
      "cell_type": "code",
      "metadata": {
        "id": "answering-riding",
        "outputId": "055e3234-4d26-48b4-9aec-0be4f6b612e1"
      },
      "source": [
        "a = 3 + 4j\n",
        "abs(a)"
      ],
      "id": "answering-riding",
      "execution_count": null,
      "outputs": [
        {
          "data": {
            "text/plain": [
              "5.0"
            ]
          },
          "execution_count": 92,
          "metadata": {},
          "output_type": "execute_result"
        }
      ]
    },
    {
      "cell_type": "code",
      "metadata": {
        "id": "micro-barrel"
      },
      "source": [
        "import urllib\n",
        "import pdf2image\n",
        "import pdftotext\n",
        "import PyPDF"
      ],
      "id": "micro-barrel",
      "execution_count": null,
      "outputs": []
    }
  ]
}