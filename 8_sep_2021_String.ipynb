{
  "nbformat": 4,
  "nbformat_minor": 5,
  "metadata": {
    "kernelspec": {
      "display_name": "Python 3 (ipykernel)",
      "language": "python",
      "name": "python3"
    },
    "language_info": {
      "codemirror_mode": {
        "name": "ipython",
        "version": 3
      },
      "file_extension": ".py",
      "mimetype": "text/x-python",
      "name": "python",
      "nbconvert_exporter": "python",
      "pygments_lexer": "ipython3",
      "version": "3.9.1"
    },
    "colab": {
      "name": "8 sep 2021 String.ipynb",
      "provenance": []
    }
  },
  "cells": [
    {
      "cell_type": "markdown",
      "metadata": {
        "id": "alone-opportunity"
      },
      "source": [
        "# String"
      ],
      "id": "alone-opportunity"
    },
    {
      "cell_type": "code",
      "metadata": {
        "id": "pressed-richards"
      },
      "source": [
        "Collection of characters surrounded by single quotes, double quotes or triple quotes\n",
        "We can not use single quote inside single quote\n",
        "We can not use double quote inside double quote"
      ],
      "id": "pressed-richards",
      "execution_count": null,
      "outputs": []
    },
    {
      "cell_type": "code",
      "metadata": {
        "id": "lasting-tragedy"
      },
      "source": [
        "single_quote_string = 'Python and Data Science'\n",
        "double_quote_string = \"Python and Data Science\""
      ],
      "id": "lasting-tragedy",
      "execution_count": null,
      "outputs": []
    },
    {
      "cell_type": "code",
      "metadata": {
        "id": "convinced-bishop",
        "outputId": "bae3f821-fa99-42f9-a810-0f2c1fc7e829"
      },
      "source": [
        "print(single_quote_string)\n",
        "print(double_quote_string)"
      ],
      "id": "convinced-bishop",
      "execution_count": null,
      "outputs": [
        {
          "name": "stdout",
          "output_type": "stream",
          "text": [
            "Python and Data Science\n",
            "Python and Data Science\n"
          ]
        }
      ]
    },
    {
      "cell_type": "code",
      "metadata": {
        "id": "crucial-czech",
        "outputId": "d0f7b2ad-4582-4931-f89f-7c9f52621e51"
      },
      "source": [
        "single_quote_string"
      ],
      "id": "crucial-czech",
      "execution_count": null,
      "outputs": [
        {
          "data": {
            "text/plain": [
              "'Python and Data Science'"
            ]
          },
          "execution_count": 3,
          "metadata": {},
          "output_type": "execute_result"
        }
      ]
    },
    {
      "cell_type": "code",
      "metadata": {
        "id": "knowing-marble",
        "outputId": "416f4d3b-c3d4-4ce1-ccdd-db2eb35f349e"
      },
      "source": [
        "double_quote_string"
      ],
      "id": "knowing-marble",
      "execution_count": null,
      "outputs": [
        {
          "data": {
            "text/plain": [
              "'Python and Data Science'"
            ]
          },
          "execution_count": 5,
          "metadata": {},
          "output_type": "execute_result"
        }
      ]
    },
    {
      "cell_type": "code",
      "metadata": {
        "id": "completed-macro",
        "outputId": "1acbd14a-d78c-40c4-a39f-cca8d691bd94"
      },
      "source": [
        "str1 = \"python's class\"\n",
        "str1"
      ],
      "id": "completed-macro",
      "execution_count": null,
      "outputs": [
        {
          "data": {
            "text/plain": [
              "\"python's class\""
            ]
          },
          "execution_count": 9,
          "metadata": {},
          "output_type": "execute_result"
        }
      ]
    },
    {
      "cell_type": "code",
      "metadata": {
        "id": "mathematical-former",
        "outputId": "101cf36f-3dd8-4d95-fa1c-c290cae5c7aa"
      },
      "source": [
        "str1 = 'python\"s class'\n",
        "str1"
      ],
      "id": "mathematical-former",
      "execution_count": null,
      "outputs": [
        {
          "data": {
            "text/plain": [
              "'python\"s class'"
            ]
          },
          "execution_count": 14,
          "metadata": {},
          "output_type": "execute_result"
        }
      ]
    },
    {
      "cell_type": "raw",
      "metadata": {
        "id": "ancient-mechanics"
      },
      "source": [
        "Triple Quotes >> Multiline string"
      ],
      "id": "ancient-mechanics"
    },
    {
      "cell_type": "code",
      "metadata": {
        "id": "confirmed-dylan",
        "outputId": "ac90bc59-9b3e-435a-c1de-277c794126cf"
      },
      "source": [
        "str3 = \"\"\"python's class\"\"\"\n",
        "str3"
      ],
      "id": "confirmed-dylan",
      "execution_count": null,
      "outputs": [
        {
          "data": {
            "text/plain": [
              "\"python's class\""
            ]
          },
          "execution_count": 16,
          "metadata": {},
          "output_type": "execute_result"
        }
      ]
    },
    {
      "cell_type": "code",
      "metadata": {
        "id": "polyphonic-weapon",
        "outputId": "d614325d-abd7-47ef-8a50-8857877f8784"
      },
      "source": [
        "str3 = \"\"\"python's class\"\"\"\n",
        "str3"
      ],
      "id": "polyphonic-weapon",
      "execution_count": null,
      "outputs": [
        {
          "data": {
            "text/plain": [
              "\"python's class\""
            ]
          },
          "execution_count": 17,
          "metadata": {},
          "output_type": "execute_result"
        }
      ]
    },
    {
      "cell_type": "code",
      "metadata": {
        "id": "upper-limit",
        "outputId": "2cf6fea5-8b60-4567-8e88-ffdca97e1d3e"
      },
      "source": [
        "data_science = \"\"\"Data science is an interdisciplinary field that uses scientific methods, \n",
        "processes, algorithms and systems to extract knowledge and insights from noisy, structured \n",
        "and unstructured data, and apply knowledge and actionable insights from data across a broad \n",
        "range of application domains\"\"\"\n",
        "\n",
        "print(data_science)"
      ],
      "id": "upper-limit",
      "execution_count": null,
      "outputs": [
        {
          "name": "stdout",
          "output_type": "stream",
          "text": [
            "Data science is an interdisciplinary field that uses scientific methods, \n",
            "processes, algorithms and systems to extract knowledge and insights from noisy, structured \n",
            "and unstructured data, and apply knowledge and actionable insights from data across a broad \n",
            "range of application domains\n"
          ]
        }
      ]
    },
    {
      "cell_type": "code",
      "metadata": {
        "id": "respective-spread",
        "outputId": "741e3ed5-78aa-4a17-b3e1-272802d4cea5"
      },
      "source": [
        "data_science = '''Data science is an interdisciplinary field that uses scientific methods, \n",
        "processes, algorithms and systems to extract knowledge and insights from noisy, structured \n",
        "and unstructured data, and apply knowledge and actionable insights from data across a broad \n",
        "range of application domains'''\n",
        "\n",
        "print(data_science)"
      ],
      "id": "respective-spread",
      "execution_count": null,
      "outputs": [
        {
          "name": "stdout",
          "output_type": "stream",
          "text": [
            "Data science is an interdisciplinary field that uses scientific methods, \n",
            "processes, algorithms and systems to extract knowledge and insights from noisy, structured \n",
            "and unstructured data, and apply knowledge and actionable insights from data across a broad \n",
            "range of application domains\n"
          ]
        }
      ]
    },
    {
      "cell_type": "code",
      "metadata": {
        "id": "intimate-shark"
      },
      "source": [
        "text = \"Data science is an interdisciplinary field that uses scientific methods, processes, algorithms and systems to extract knowledge and insights from noisy, structured and unstructured data, and apply knowledge and actionable insights from data across a broad range of application domains\""
      ],
      "id": "intimate-shark",
      "execution_count": null,
      "outputs": []
    },
    {
      "cell_type": "code",
      "metadata": {
        "id": "national-flood",
        "outputId": "d3450b7c-a223-4bd2-a88e-4bb02df83b73"
      },
      "source": [
        "print(text)"
      ],
      "id": "national-flood",
      "execution_count": null,
      "outputs": [
        {
          "name": "stdout",
          "output_type": "stream",
          "text": [
            "Data science is an interdisciplinary field that uses scientific methods, processes, algorithms and systems to extract knowledge and insights from noisy, structured and unstructured data, and apply knowledge and actionable insights from data across a broad range of application domains\n"
          ]
        }
      ]
    },
    {
      "cell_type": "code",
      "metadata": {
        "id": "preceding-india",
        "outputId": "4639fda4-d144-4d9b-b319-4be9fa33927f"
      },
      "source": [
        "data = \"\"\"PARNAVI ELECTRONICS\n",
        "Joint Holder :- -\n",
        "SHOP NO 01 BABA MARKET HAROLA\n",
        "SECTOR 05\n",
        "NOIDA Customer No :875243714\n",
        "UTTAR PRADESH Scheme :CURRENT ACCOUNT-NORMAL\n",
        "201301 Currency :INR\"\"\"\n",
        "print(data)"
      ],
      "id": "preceding-india",
      "execution_count": null,
      "outputs": [
        {
          "name": "stdout",
          "output_type": "stream",
          "text": [
            "PARNAVI ELECTRONICS\n",
            "Joint Holder :- -\n",
            "SHOP NO 01 BABA MARKET HAROLA\n",
            "SECTOR 05\n",
            "NOIDA Customer No :875243714\n",
            "UTTAR PRADESH Scheme :CURRENT ACCOUNT-NORMAL\n",
            "201301 Currency :INR\n"
          ]
        }
      ]
    },
    {
      "cell_type": "code",
      "metadata": {
        "id": "distant-logan",
        "outputId": "52e404f7-6b04-4cc7-8687-a7d4a2855cbf"
      },
      "source": [
        "'''Data science is an interdisciplinary field that uses scientific methods, \n",
        "processes, algorithms and systems to extract knowledge and insights from noisy, structured \n",
        "and unstructured data, and apply knowledge and actionable insights from data across a broad \n",
        "range of application domains'''\n",
        "\n",
        "x = 100\n",
        "print(x)"
      ],
      "id": "distant-logan",
      "execution_count": null,
      "outputs": [
        {
          "name": "stdout",
          "output_type": "stream",
          "text": [
            "100\n"
          ]
        }
      ]
    },
    {
      "cell_type": "code",
      "metadata": {
        "id": "familiar-naples",
        "outputId": "a5c3d707-0e77-4ed8-a90e-25ffd07f27af"
      },
      "source": [
        "data = \"\"\"Data science is an interdisciplinary field that uses scientific methods, \n",
        "processes, algorithms and systems to extract knowledge and insights from noisy, structured \n",
        "and unstructured data, and apply knowledge and actionable insights from data across a broad \n",
        "range of application domains\"\"\" \n",
        "\n",
        "\"\"\"Data science is an interdisciplinary field that uses scientific methods, \n",
        "processes, algorithms and systems to extract knowledge and insights from noisy, structured \n",
        "and unstructured data, and apply knowledge and actionable insights from data across a broad \n",
        "range of application domains\"\"\" \n",
        "\n",
        "# Data science is an interdisciplinary\n",
        "# algorithms and systems\n",
        "print(data)\n",
        "\n",
        "x = 100\n",
        "print(x)"
      ],
      "id": "familiar-naples",
      "execution_count": null,
      "outputs": [
        {
          "name": "stdout",
          "output_type": "stream",
          "text": [
            "Data science is an interdisciplinary field that uses scientific methods, \n",
            "processes, algorithms and systems to extract knowledge and insights from noisy, structured \n",
            "and unstructured data, and apply knowledge and actionable insights from data across a broad \n",
            "range of application domains\n",
            "100\n"
          ]
        }
      ]
    },
    {
      "cell_type": "markdown",
      "metadata": {
        "id": "forbidden-controversy"
      },
      "source": [
        "# Escape Char"
      ],
      "id": "forbidden-controversy"
    },
    {
      "cell_type": "code",
      "metadata": {
        "id": "criminal-minimum"
      },
      "source": [
        "backslash(\\) >> Escape char"
      ],
      "id": "criminal-minimum",
      "execution_count": null,
      "outputs": []
    },
    {
      "cell_type": "code",
      "metadata": {
        "id": "miniature-passenger",
        "outputId": "69acf1e5-7de8-4643-edd4-c644cb64e904"
      },
      "source": [
        "string = 'python\\'s class'\n",
        "string"
      ],
      "id": "miniature-passenger",
      "execution_count": null,
      "outputs": [
        {
          "data": {
            "text/plain": [
              "\"python's class\""
            ]
          },
          "execution_count": 40,
          "metadata": {},
          "output_type": "execute_result"
        }
      ]
    },
    {
      "cell_type": "code",
      "metadata": {
        "id": "trained-dubai",
        "outputId": "5c7c2a9f-d001-4c5d-8092-f823d09eae01"
      },
      "source": [
        "string = \"We are learning \\\"Python\\\" and Data Science\"\n",
        "print(string)"
      ],
      "id": "trained-dubai",
      "execution_count": null,
      "outputs": [
        {
          "name": "stdout",
          "output_type": "stream",
          "text": [
            "We are learning \"Python\" and Data Science\n"
          ]
        }
      ]
    },
    {
      "cell_type": "code",
      "metadata": {
        "id": "inappropriate-miami",
        "outputId": "c2e7bb59-5588-45e3-cdd3-5a3601685c76"
      },
      "source": [
        "string = 'We are learning \"Python\" and Data Science'\n",
        "print(string)"
      ],
      "id": "inappropriate-miami",
      "execution_count": null,
      "outputs": [
        {
          "name": "stdout",
          "output_type": "stream",
          "text": [
            "We are learning \"Python\" and Data Science\n"
          ]
        }
      ]
    },
    {
      "cell_type": "markdown",
      "metadata": {
        "id": "elegant-registrar"
      },
      "source": [
        "## \\n >> New Line"
      ],
      "id": "elegant-registrar"
    },
    {
      "cell_type": "code",
      "metadata": {
        "id": "becoming-salad",
        "outputId": "113da5be-17d8-4693-f823-8f09d9eec98a"
      },
      "source": [
        "a = \"python\"\n",
        "b = 'Class'\n",
        "print(a)\n",
        "print(b)"
      ],
      "id": "becoming-salad",
      "execution_count": null,
      "outputs": [
        {
          "name": "stdout",
          "output_type": "stream",
          "text": [
            "python\n",
            "Class\n"
          ]
        }
      ]
    },
    {
      "cell_type": "code",
      "metadata": {
        "id": "worse-edward",
        "outputId": "012eb299-08f7-4c80-9919-3b3031d26871"
      },
      "source": [
        "a = \"python\"\n",
        "b = 'Class'\n",
        "print(a, end = '\\n')\n",
        "print(b)"
      ],
      "id": "worse-edward",
      "execution_count": null,
      "outputs": [
        {
          "name": "stdout",
          "output_type": "stream",
          "text": [
            "python\n",
            "Class\n"
          ]
        }
      ]
    },
    {
      "cell_type": "code",
      "metadata": {
        "id": "married-genetics",
        "outputId": "b2173c17-09c5-4b9f-99b4-1cf0cf227ff1"
      },
      "source": [
        "a = \"python\"\n",
        "b = 'Class'\n",
        "print(a,b, end = ' ++ ')\n",
        "# print(b)"
      ],
      "id": "married-genetics",
      "execution_count": null,
      "outputs": [
        {
          "name": "stdout",
          "output_type": "stream",
          "text": [
            "python Class ++ "
          ]
        }
      ]
    },
    {
      "cell_type": "code",
      "metadata": {
        "id": "naked-listing",
        "outputId": "99aa5748-c927-4132-894b-634f33c2dee3"
      },
      "source": [
        "a = \"python\"\n",
        "b = 'Class'\n",
        "print(a,end = '\\n')\n",
        "print(b)"
      ],
      "id": "naked-listing",
      "execution_count": null,
      "outputs": [
        {
          "name": "stdout",
          "output_type": "stream",
          "text": [
            "python\n",
            "Class\n"
          ]
        }
      ]
    },
    {
      "cell_type": "code",
      "metadata": {
        "id": "auburn-crystal",
        "outputId": "15ece23b-d102-4417-fb91-9ef651f601ac"
      },
      "source": [
        "a = \"python\"\n",
        "b = 'Class'\n",
        "print(a,b,end = '\\n')\n"
      ],
      "id": "auburn-crystal",
      "execution_count": null,
      "outputs": [
        {
          "name": "stdout",
          "output_type": "stream",
          "text": [
            "python Class\n"
          ]
        }
      ]
    },
    {
      "cell_type": "code",
      "metadata": {
        "id": "established-tunisia",
        "outputId": "f18ac568-d0fd-44b8-d25b-f96982df2af5"
      },
      "source": [
        "string = 'Data science is an interdisciplinary field that uses scientific \\n methods, processes, algorithms and systems'\n",
        "print(string)"
      ],
      "id": "established-tunisia",
      "execution_count": null,
      "outputs": [
        {
          "name": "stdout",
          "output_type": "stream",
          "text": [
            "Data science is an interdisciplinary field that uses scientific \n",
            " methods, processes, algorithms and systems\n"
          ]
        }
      ]
    },
    {
      "cell_type": "code",
      "metadata": {
        "id": "prospective-texas"
      },
      "source": [
        "string = 'Data science is an interdisciplinary field that uses scientific \\n methods, processes, algorithms and systems'\n",
        "print(string)"
      ],
      "id": "prospective-texas",
      "execution_count": null,
      "outputs": []
    },
    {
      "cell_type": "code",
      "metadata": {
        "id": "extreme-shower",
        "outputId": "b66f251f-e5e9-4b45-ab6e-9d668b01a49a"
      },
      "source": [
        "print('\\ndata \\n python')"
      ],
      "id": "extreme-shower",
      "execution_count": null,
      "outputs": [
        {
          "name": "stdout",
          "output_type": "stream",
          "text": [
            "\n",
            "data \n",
            " python\n"
          ]
        }
      ]
    },
    {
      "cell_type": "code",
      "metadata": {
        "id": "reduced-machinery",
        "outputId": "339d4605-961b-4054-9299-f63452675dcd"
      },
      "source": [
        "print('\\ndata python')"
      ],
      "id": "reduced-machinery",
      "execution_count": null,
      "outputs": [
        {
          "name": "stdout",
          "output_type": "stream",
          "text": [
            "\n",
            "data python\n"
          ]
        }
      ]
    },
    {
      "cell_type": "code",
      "metadata": {
        "id": "excessive-fleece",
        "outputId": "aa1caaa5-b29a-4b78-d60c-8a8f7332171a"
      },
      "source": [
        "print('data python')"
      ],
      "id": "excessive-fleece",
      "execution_count": null,
      "outputs": [
        {
          "name": "stdout",
          "output_type": "stream",
          "text": [
            "data python\n"
          ]
        }
      ]
    },
    {
      "cell_type": "code",
      "metadata": {
        "id": "superb-method",
        "outputId": "8d7477c4-ea92-4db0-fa7e-421b5c004aac"
      },
      "source": [
        "a = 10\n",
        "print(f'\\n{a} data python')"
      ],
      "id": "superb-method",
      "execution_count": null,
      "outputs": [
        {
          "name": "stdout",
          "output_type": "stream",
          "text": [
            "\n",
            "10 data python\n"
          ]
        }
      ]
    },
    {
      "cell_type": "code",
      "metadata": {
        "id": "sacred-buying",
        "outputId": "769f2dda-22bb-4a06-fb62-aa2b277ef69f"
      },
      "source": [
        "a = 10\n",
        "b = 20\n",
        "print(a,'\\n\\n',b)"
      ],
      "id": "sacred-buying",
      "execution_count": null,
      "outputs": [
        {
          "name": "stdout",
          "output_type": "stream",
          "text": [
            "10 \n",
            "\n",
            " 20\n"
          ]
        }
      ]
    },
    {
      "cell_type": "code",
      "metadata": {
        "id": "helpful-illustration",
        "outputId": "55e6755c-f1fc-4698-a40f-f74f8376e30b"
      },
      "source": [
        "a = 10\n",
        "b = 20\n",
        "print(a,end = '++\\n')\n",
        "print(b)"
      ],
      "id": "helpful-illustration",
      "execution_count": null,
      "outputs": [
        {
          "name": "stdout",
          "output_type": "stream",
          "text": [
            "10++\n",
            "20\n"
          ]
        }
      ]
    },
    {
      "cell_type": "code",
      "metadata": {
        "id": "orange-accountability",
        "outputId": "6bef3c57-5068-4be6-b437-8a6ae96fde2d"
      },
      "source": [
        "a = 10\n",
        "print(\"Value in variable a is \",a)"
      ],
      "id": "orange-accountability",
      "execution_count": null,
      "outputs": [
        {
          "name": "stdout",
          "output_type": "stream",
          "text": [
            "Value in variable a is  10\n"
          ]
        }
      ]
    },
    {
      "cell_type": "code",
      "metadata": {
        "id": "marked-liechtenstein",
        "outputId": "f1428457-90cd-446b-b163-63f792d5da84"
      },
      "source": [
        "path = \"D:\\RahulK\\Velocity_Sep_21\\09_09\"\n",
        "print(path)"
      ],
      "id": "marked-liechtenstein",
      "execution_count": null,
      "outputs": [
        {
          "name": "stdout",
          "output_type": "stream",
          "text": [
            "D:\\RahulK\\Velocity_Sep_21\u00009_09\n"
          ]
        }
      ]
    },
    {
      "cell_type": "code",
      "metadata": {
        "id": "ceramic-character",
        "outputId": "c0c6c9e3-5f42-4b75-bc6b-e730638bd4ab"
      },
      "source": [
        "path = \"D:\\RahulK\\Velocity_Sep_21\\newfolder\"\n",
        "print(path)"
      ],
      "id": "ceramic-character",
      "execution_count": null,
      "outputs": [
        {
          "name": "stdout",
          "output_type": "stream",
          "text": [
            "D:\\RahulK\\Velocity_Sep_21\n",
            "ewfolder\n"
          ]
        }
      ]
    },
    {
      "cell_type": "code",
      "metadata": {
        "id": "cloudy-thing",
        "outputId": "1f98163f-2d70-4bef-8621-e544a366efd5"
      },
      "source": [
        "path = \"D:\\\\RahulK\\\\Velocity_Sep_21\\\\newfolder\"\n",
        "print(path)"
      ],
      "id": "cloudy-thing",
      "execution_count": null,
      "outputs": [
        {
          "name": "stdout",
          "output_type": "stream",
          "text": [
            "D:\\RahulK\\Velocity_Sep_21\\newfolder\n"
          ]
        }
      ]
    },
    {
      "cell_type": "code",
      "metadata": {
        "id": "gross-armstrong",
        "outputId": "fa33b9b2-927d-41a6-b9ca-223d502d6897"
      },
      "source": [
        "path = r\"D:\\RahulK\\Velocity_Sep_21\\newfolder\"\n",
        "print(path)"
      ],
      "id": "gross-armstrong",
      "execution_count": null,
      "outputs": [
        {
          "name": "stdout",
          "output_type": "stream",
          "text": [
            "D:\\RahulK\\Velocity_Sep_21\\newfolder\n"
          ]
        }
      ]
    },
    {
      "cell_type": "code",
      "metadata": {
        "id": "endangered-nicaragua",
        "outputId": "56ee71bf-13bc-4d18-f746-34271d9dadb2"
      },
      "source": [
        "path = \"D:/RahulK/Velocity_Sep_21/newfolder\"\n",
        "print(path)"
      ],
      "id": "endangered-nicaragua",
      "execution_count": null,
      "outputs": [
        {
          "name": "stdout",
          "output_type": "stream",
          "text": [
            "D:/RahulK/Velocity_Sep_21/newfolder\n"
          ]
        }
      ]
    },
    {
      "cell_type": "markdown",
      "metadata": {
        "id": "flying-stereo"
      },
      "source": [
        "### \\t >> tab"
      ],
      "id": "flying-stereo"
    },
    {
      "cell_type": "code",
      "metadata": {
        "id": "incomplete-sigma",
        "outputId": "7d2371a4-5c79-4061-f1a1-a10e170abebb"
      },
      "source": [
        "string = 'datapython'\n",
        "print(string)"
      ],
      "id": "incomplete-sigma",
      "execution_count": null,
      "outputs": [
        {
          "name": "stdout",
          "output_type": "stream",
          "text": [
            "datapython\n"
          ]
        }
      ]
    },
    {
      "cell_type": "code",
      "metadata": {
        "id": "greatest-adoption",
        "outputId": "44ec680b-394a-430c-cdfa-4839c6abafd2"
      },
      "source": [
        "string = 'data\\tpython'\n",
        "print(string)"
      ],
      "id": "greatest-adoption",
      "execution_count": null,
      "outputs": [
        {
          "name": "stdout",
          "output_type": "stream",
          "text": [
            "data\tpython\n"
          ]
        }
      ]
    },
    {
      "cell_type": "code",
      "metadata": {
        "id": "intelligent-wound",
        "outputId": "c9b7a97b-cf5b-4f0d-9ba1-17be312222bf"
      },
      "source": [
        "import pandas as pd\n",
        "df = pd.read_csv('heart.csv')\n",
        "df.info()"
      ],
      "id": "intelligent-wound",
      "execution_count": null,
      "outputs": [
        {
          "name": "stdout",
          "output_type": "stream",
          "text": [
            "<class 'pandas.core.frame.DataFrame'>\n",
            "RangeIndex: 303 entries, 0 to 302\n",
            "Data columns (total 14 columns):\n",
            " #   Column    Non-Null Count  Dtype  \n",
            "---  ------    --------------  -----  \n",
            " 0   age       303 non-null    int64  \n",
            " 1   sex       303 non-null    int64  \n",
            " 2   cp        303 non-null    int64  \n",
            " 3   trestbps  303 non-null    int64  \n",
            " 4   chol      303 non-null    int64  \n",
            " 5   fbs       303 non-null    int64  \n",
            " 6   restecg   303 non-null    int64  \n",
            " 7   thalach   303 non-null    int64  \n",
            " 8   exang     303 non-null    int64  \n",
            " 9   oldpeak   303 non-null    float64\n",
            " 10  slope     303 non-null    int64  \n",
            " 11  ca        303 non-null    int64  \n",
            " 12  thal      303 non-null    int64  \n",
            " 13  target    303 non-null    int64  \n",
            "dtypes: float64(1), int64(13)\n",
            "memory usage: 33.3 KB\n"
          ]
        }
      ]
    }
  ]
}